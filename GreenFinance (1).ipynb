{
 "cells": [
  {
   "cell_type": "code",
   "execution_count": 1,
   "id": "2f336384",
   "metadata": {},
   "outputs": [],
   "source": [
    "import pandas as pd\n",
    "import matplotlib.pyplot as plt\n",
    "import numpy as np"
   ]
  },
  {
   "cell_type": "code",
   "execution_count": 2,
   "id": "e34bc148",
   "metadata": {},
   "outputs": [],
   "source": [
    "gfi= pd.read_excel(r'C:\\Users\\vandu\\Downloads\\gfi.xlsx')"
   ]
  },
  {
   "cell_type": "code",
   "execution_count": 3,
   "id": "6d45f16e",
   "metadata": {},
   "outputs": [],
   "source": [
    "gfi.rename(columns = {'Unnamed: 0':'Year'}, inplace = True)"
   ]
  },
  {
   "cell_type": "code",
   "execution_count": 4,
   "id": "78dab4f7",
   "metadata": {},
   "outputs": [],
   "source": [
    "gfi.set_index('Year', inplace=True)"
   ]
  },
  {
   "cell_type": "code",
   "execution_count": 5,
   "id": "8bb2564c",
   "metadata": {},
   "outputs": [
    {
     "data": {
      "text/html": [
       "<div>\n",
       "<style scoped>\n",
       "    .dataframe tbody tr th:only-of-type {\n",
       "        vertical-align: middle;\n",
       "    }\n",
       "\n",
       "    .dataframe tbody tr th {\n",
       "        vertical-align: top;\n",
       "    }\n",
       "\n",
       "    .dataframe thead th {\n",
       "        text-align: right;\n",
       "    }\n",
       "</style>\n",
       "<table border=\"1\" class=\"dataframe\">\n",
       "  <thead>\n",
       "    <tr style=\"text-align: right;\">\n",
       "      <th></th>\n",
       "      <th>Green Credit</th>\n",
       "      <th>Green Securities</th>\n",
       "      <th>Green Investment1</th>\n",
       "      <th>Green Investment 2</th>\n",
       "    </tr>\n",
       "    <tr>\n",
       "      <th>Year</th>\n",
       "      <th></th>\n",
       "      <th></th>\n",
       "      <th></th>\n",
       "      <th></th>\n",
       "    </tr>\n",
       "  </thead>\n",
       "  <tbody>\n",
       "    <tr>\n",
       "      <th>2011</th>\n",
       "      <td>402653.83</td>\n",
       "      <td>688662.52</td>\n",
       "      <td>40.00</td>\n",
       "      <td>1500</td>\n",
       "    </tr>\n",
       "    <tr>\n",
       "      <th>2012</th>\n",
       "      <td>788501.40</td>\n",
       "      <td>969829.12</td>\n",
       "      <td>42.00</td>\n",
       "      <td>1676</td>\n",
       "    </tr>\n",
       "    <tr>\n",
       "      <th>2013</th>\n",
       "      <td>926211.91</td>\n",
       "      <td>1189667.10</td>\n",
       "      <td>57.72</td>\n",
       "      <td>1366</td>\n",
       "    </tr>\n",
       "    <tr>\n",
       "      <th>2014</th>\n",
       "      <td>1094724.35</td>\n",
       "      <td>1646633.94</td>\n",
       "      <td>57.72</td>\n",
       "      <td>2296</td>\n",
       "    </tr>\n",
       "    <tr>\n",
       "      <th>2015</th>\n",
       "      <td>1296977.64</td>\n",
       "      <td>1770653.43</td>\n",
       "      <td>52.00</td>\n",
       "      <td>1656</td>\n",
       "    </tr>\n",
       "    <tr>\n",
       "      <th>2016</th>\n",
       "      <td>1613891.38</td>\n",
       "      <td>1866861.40</td>\n",
       "      <td>50.00</td>\n",
       "      <td>1790</td>\n",
       "    </tr>\n",
       "    <tr>\n",
       "      <th>2017</th>\n",
       "      <td>1971634.98</td>\n",
       "      <td>2705363.32</td>\n",
       "      <td>65.00</td>\n",
       "      <td>1545</td>\n",
       "    </tr>\n",
       "    <tr>\n",
       "      <th>2018</th>\n",
       "      <td>2264898.66</td>\n",
       "      <td>3372310.26</td>\n",
       "      <td>74.30</td>\n",
       "      <td>2390</td>\n",
       "    </tr>\n",
       "    <tr>\n",
       "      <th>2019</th>\n",
       "      <td>2619541.91</td>\n",
       "      <td>3922412.36</td>\n",
       "      <td>100.00</td>\n",
       "      <td>4115</td>\n",
       "    </tr>\n",
       "    <tr>\n",
       "      <th>2020</th>\n",
       "      <td>3211896.00</td>\n",
       "      <td>5386655.75</td>\n",
       "      <td>100.00</td>\n",
       "      <td>4191</td>\n",
       "    </tr>\n",
       "    <tr>\n",
       "      <th>2021</th>\n",
       "      <td>3333775.64</td>\n",
       "      <td>6263059.73</td>\n",
       "      <td>100.00</td>\n",
       "      <td>3030</td>\n",
       "    </tr>\n",
       "  </tbody>\n",
       "</table>\n",
       "</div>"
      ],
      "text/plain": [
       "      Green Credit  Green Securities  Green Investment1  Green Investment 2\n",
       "Year                                                                       \n",
       "2011     402653.83         688662.52              40.00                1500\n",
       "2012     788501.40         969829.12              42.00                1676\n",
       "2013     926211.91        1189667.10              57.72                1366\n",
       "2014    1094724.35        1646633.94              57.72                2296\n",
       "2015    1296977.64        1770653.43              52.00                1656\n",
       "2016    1613891.38        1866861.40              50.00                1790\n",
       "2017    1971634.98        2705363.32              65.00                1545\n",
       "2018    2264898.66        3372310.26              74.30                2390\n",
       "2019    2619541.91        3922412.36             100.00                4115\n",
       "2020    3211896.00        5386655.75             100.00                4191\n",
       "2021    3333775.64        6263059.73             100.00                3030"
      ]
     },
     "execution_count": 5,
     "metadata": {},
     "output_type": "execute_result"
    }
   ],
   "source": [
    "gfi"
   ]
  },
  {
   "cell_type": "markdown",
   "id": "0dc42647",
   "metadata": {},
   "source": [
    "# Normalization "
   ]
  },
  {
   "cell_type": "code",
   "execution_count": 6,
   "id": "c9656cc2",
   "metadata": {},
   "outputs": [],
   "source": [
    "for column in gfi:\n",
    "    gfi[column]= (gfi[column] - gfi[column].mean())/gfi[column].std()"
   ]
  },
  {
   "cell_type": "code",
   "execution_count": 7,
   "id": "d7d773f7",
   "metadata": {},
   "outputs": [
    {
     "data": {
      "text/html": [
       "<div>\n",
       "<style scoped>\n",
       "    .dataframe tbody tr th:only-of-type {\n",
       "        vertical-align: middle;\n",
       "    }\n",
       "\n",
       "    .dataframe tbody tr th {\n",
       "        vertical-align: top;\n",
       "    }\n",
       "\n",
       "    .dataframe thead th {\n",
       "        text-align: right;\n",
       "    }\n",
       "</style>\n",
       "<table border=\"1\" class=\"dataframe\">\n",
       "  <thead>\n",
       "    <tr style=\"text-align: right;\">\n",
       "      <th></th>\n",
       "      <th>Green Credit</th>\n",
       "      <th>Green Securities</th>\n",
       "      <th>Green Investment1</th>\n",
       "      <th>Green Investment 2</th>\n",
       "    </tr>\n",
       "    <tr>\n",
       "      <th>Year</th>\n",
       "      <th></th>\n",
       "      <th></th>\n",
       "      <th></th>\n",
       "      <th></th>\n",
       "    </tr>\n",
       "  </thead>\n",
       "  <tbody>\n",
       "    <tr>\n",
       "      <th>2011</th>\n",
       "      <td>-1.387629</td>\n",
       "      <td>-1.097326</td>\n",
       "      <td>-1.172590</td>\n",
       "      <td>-0.801369</td>\n",
       "    </tr>\n",
       "    <tr>\n",
       "      <th>2012</th>\n",
       "      <td>-0.997477</td>\n",
       "      <td>-0.944497</td>\n",
       "      <td>-1.086237</td>\n",
       "      <td>-0.630033</td>\n",
       "    </tr>\n",
       "    <tr>\n",
       "      <th>2013</th>\n",
       "      <td>-0.858230</td>\n",
       "      <td>-0.825003</td>\n",
       "      <td>-0.407506</td>\n",
       "      <td>-0.931818</td>\n",
       "    </tr>\n",
       "    <tr>\n",
       "      <th>2014</th>\n",
       "      <td>-0.687838</td>\n",
       "      <td>-0.576618</td>\n",
       "      <td>-0.407506</td>\n",
       "      <td>-0.026462</td>\n",
       "    </tr>\n",
       "    <tr>\n",
       "      <th>2015</th>\n",
       "      <td>-0.483328</td>\n",
       "      <td>-0.509206</td>\n",
       "      <td>-0.654474</td>\n",
       "      <td>-0.649503</td>\n",
       "    </tr>\n",
       "    <tr>\n",
       "      <th>2016</th>\n",
       "      <td>-0.162879</td>\n",
       "      <td>-0.456912</td>\n",
       "      <td>-0.740827</td>\n",
       "      <td>-0.519053</td>\n",
       "    </tr>\n",
       "    <tr>\n",
       "      <th>2017</th>\n",
       "      <td>0.198856</td>\n",
       "      <td>-0.001142</td>\n",
       "      <td>-0.093182</td>\n",
       "      <td>-0.757561</td>\n",
       "    </tr>\n",
       "    <tr>\n",
       "      <th>2018</th>\n",
       "      <td>0.495391</td>\n",
       "      <td>0.361379</td>\n",
       "      <td>0.308357</td>\n",
       "      <td>0.065048</td>\n",
       "    </tr>\n",
       "    <tr>\n",
       "      <th>2019</th>\n",
       "      <td>0.853990</td>\n",
       "      <td>0.660389</td>\n",
       "      <td>1.417988</td>\n",
       "      <td>1.744338</td>\n",
       "    </tr>\n",
       "    <tr>\n",
       "      <th>2020</th>\n",
       "      <td>1.452953</td>\n",
       "      <td>1.456283</td>\n",
       "      <td>1.417988</td>\n",
       "      <td>1.818324</td>\n",
       "    </tr>\n",
       "    <tr>\n",
       "      <th>2021</th>\n",
       "      <td>1.576192</td>\n",
       "      <td>1.932655</td>\n",
       "      <td>1.417988</td>\n",
       "      <td>0.688089</td>\n",
       "    </tr>\n",
       "  </tbody>\n",
       "</table>\n",
       "</div>"
      ],
      "text/plain": [
       "      Green Credit  Green Securities  Green Investment1  Green Investment 2\n",
       "Year                                                                       \n",
       "2011     -1.387629         -1.097326          -1.172590           -0.801369\n",
       "2012     -0.997477         -0.944497          -1.086237           -0.630033\n",
       "2013     -0.858230         -0.825003          -0.407506           -0.931818\n",
       "2014     -0.687838         -0.576618          -0.407506           -0.026462\n",
       "2015     -0.483328         -0.509206          -0.654474           -0.649503\n",
       "2016     -0.162879         -0.456912          -0.740827           -0.519053\n",
       "2017      0.198856         -0.001142          -0.093182           -0.757561\n",
       "2018      0.495391          0.361379           0.308357            0.065048\n",
       "2019      0.853990          0.660389           1.417988            1.744338\n",
       "2020      1.452953          1.456283           1.417988            1.818324\n",
       "2021      1.576192          1.932655           1.417988            0.688089"
      ]
     },
     "execution_count": 7,
     "metadata": {},
     "output_type": "execute_result"
    }
   ],
   "source": [
    "gfi"
   ]
  },
  {
   "cell_type": "code",
   "execution_count": 8,
   "id": "04d089a6",
   "metadata": {},
   "outputs": [
    {
     "data": {
      "text/html": [
       "<div>\n",
       "<style scoped>\n",
       "    .dataframe tbody tr th:only-of-type {\n",
       "        vertical-align: middle;\n",
       "    }\n",
       "\n",
       "    .dataframe tbody tr th {\n",
       "        vertical-align: top;\n",
       "    }\n",
       "\n",
       "    .dataframe thead th {\n",
       "        text-align: right;\n",
       "    }\n",
       "</style>\n",
       "<table border=\"1\" class=\"dataframe\">\n",
       "  <thead>\n",
       "    <tr style=\"text-align: right;\">\n",
       "      <th></th>\n",
       "      <th>Green Credit</th>\n",
       "      <th>Green Securities</th>\n",
       "      <th>Green Investment1</th>\n",
       "      <th>Green Investment 2</th>\n",
       "    </tr>\n",
       "  </thead>\n",
       "  <tbody>\n",
       "    <tr>\n",
       "      <th>Green Credit</th>\n",
       "      <td>1.000000</td>\n",
       "      <td>0.979490</td>\n",
       "      <td>0.941811</td>\n",
       "      <td>0.805455</td>\n",
       "    </tr>\n",
       "    <tr>\n",
       "      <th>Green Securities</th>\n",
       "      <td>0.979490</td>\n",
       "      <td>1.000000</td>\n",
       "      <td>0.940902</td>\n",
       "      <td>0.798047</td>\n",
       "    </tr>\n",
       "    <tr>\n",
       "      <th>Green Investment1</th>\n",
       "      <td>0.941811</td>\n",
       "      <td>0.940902</td>\n",
       "      <td>1.000000</td>\n",
       "      <td>0.894232</td>\n",
       "    </tr>\n",
       "    <tr>\n",
       "      <th>Green Investment 2</th>\n",
       "      <td>0.805455</td>\n",
       "      <td>0.798047</td>\n",
       "      <td>0.894232</td>\n",
       "      <td>1.000000</td>\n",
       "    </tr>\n",
       "  </tbody>\n",
       "</table>\n",
       "</div>"
      ],
      "text/plain": [
       "                    Green Credit  Green Securities  Green Investment1  \\\n",
       "Green Credit            1.000000          0.979490           0.941811   \n",
       "Green Securities        0.979490          1.000000           0.940902   \n",
       "Green Investment1       0.941811          0.940902           1.000000   \n",
       "Green Investment 2      0.805455          0.798047           0.894232   \n",
       "\n",
       "                    Green Investment 2  \n",
       "Green Credit                  0.805455  \n",
       "Green Securities              0.798047  \n",
       "Green Investment1             0.894232  \n",
       "Green Investment 2            1.000000  "
      ]
     },
     "execution_count": 8,
     "metadata": {},
     "output_type": "execute_result"
    }
   ],
   "source": [
    "V = gfi.cov()\n",
    "V"
   ]
  },
  {
   "cell_type": "code",
   "execution_count": 9,
   "id": "0d3c2f17",
   "metadata": {},
   "outputs": [],
   "source": [
    "from numpy import linalg as LA\n",
    "w,v=LA.eig(V)"
   ]
  },
  {
   "cell_type": "code",
   "execution_count": 10,
   "id": "b112123f",
   "metadata": {},
   "outputs": [
    {
     "data": {
      "text/plain": [
       "array([3.68328484, 0.25558593, 0.02035802, 0.04077121])"
      ]
     },
     "execution_count": 10,
     "metadata": {},
     "output_type": "execute_result"
    }
   ],
   "source": [
    "w"
   ]
  },
  {
   "cell_type": "code",
   "execution_count": 11,
   "id": "fd50b23b",
   "metadata": {},
   "outputs": [
    {
     "data": {
      "text/plain": [
       "array([[ 0.50680493,  0.39517363,  0.69645087,  0.31928474],\n",
       "       [ 0.50572004,  0.42105261, -0.7150642 ,  0.23589222],\n",
       "       [ 0.51301767, -0.05352369,  0.04915542, -0.85529634],\n",
       "       [ 0.47350699, -0.81467031, -0.03497318,  0.33298692]])"
      ]
     },
     "execution_count": 11,
     "metadata": {},
     "output_type": "execute_result"
    }
   ],
   "source": [
    "v"
   ]
  },
  {
   "cell_type": "code",
   "execution_count": 12,
   "id": "0a84b97c",
   "metadata": {},
   "outputs": [],
   "source": [
    "sum=0\n",
    "for i in w:\n",
    "    sum=sum+i"
   ]
  },
  {
   "cell_type": "code",
   "execution_count": 13,
   "id": "9854aec1",
   "metadata": {},
   "outputs": [
    {
     "data": {
      "text/plain": [
       "array([0.50680493, 0.39517363, 0.69645087, 0.31928474])"
      ]
     },
     "execution_count": 13,
     "metadata": {},
     "output_type": "execute_result"
    }
   ],
   "source": [
    "v[0]"
   ]
  },
  {
   "cell_type": "code",
   "execution_count": 14,
   "id": "bf7eccb1",
   "metadata": {},
   "outputs": [],
   "source": [
    "from sklearn.decomposition import PCA\n",
    " \n",
    "pca = PCA(n_components = 1)\n",
    " \n",
    "gfi = pca.fit_transform(gfi) \n",
    "explained_variance = pca.explained_variance_ratio_"
   ]
  },
  {
   "cell_type": "code",
   "execution_count": 15,
   "id": "3972f75a",
   "metadata": {},
   "outputs": [],
   "source": [
    "gfi=pd.DataFrame(gfi)"
   ]
  },
  {
   "cell_type": "code",
   "execution_count": 16,
   "id": "24b54c1c",
   "metadata": {},
   "outputs": [
    {
     "data": {
      "text/html": [
       "<div>\n",
       "<style scoped>\n",
       "    .dataframe tbody tr th:only-of-type {\n",
       "        vertical-align: middle;\n",
       "    }\n",
       "\n",
       "    .dataframe tbody tr th {\n",
       "        vertical-align: top;\n",
       "    }\n",
       "\n",
       "    .dataframe thead th {\n",
       "        text-align: right;\n",
       "    }\n",
       "</style>\n",
       "<table border=\"1\" class=\"dataframe\">\n",
       "  <thead>\n",
       "    <tr style=\"text-align: right;\">\n",
       "      <th></th>\n",
       "      <th>0</th>\n",
       "    </tr>\n",
       "  </thead>\n",
       "  <tbody>\n",
       "    <tr>\n",
       "      <th>0</th>\n",
       "      <td>-2.239210</td>\n",
       "    </tr>\n",
       "    <tr>\n",
       "      <th>1</th>\n",
       "      <td>-1.838761</td>\n",
       "    </tr>\n",
       "    <tr>\n",
       "      <th>2</th>\n",
       "      <td>-1.502456</td>\n",
       "    </tr>\n",
       "    <tr>\n",
       "      <th>3</th>\n",
       "      <td>-0.861794</td>\n",
       "    </tr>\n",
       "    <tr>\n",
       "      <th>4</th>\n",
       "      <td>-1.145770</td>\n",
       "    </tr>\n",
       "    <tr>\n",
       "      <th>5</th>\n",
       "      <td>-0.939450</td>\n",
       "    </tr>\n",
       "    <tr>\n",
       "      <th>6</th>\n",
       "      <td>-0.306311</td>\n",
       "    </tr>\n",
       "    <tr>\n",
       "      <th>7</th>\n",
       "      <td>0.622816</td>\n",
       "    </tr>\n",
       "    <tr>\n",
       "      <th>8</th>\n",
       "      <td>2.320188</td>\n",
       "    </tr>\n",
       "    <tr>\n",
       "      <th>9</th>\n",
       "      <td>3.061277</td>\n",
       "    </tr>\n",
       "    <tr>\n",
       "      <th>10</th>\n",
       "      <td>2.829472</td>\n",
       "    </tr>\n",
       "  </tbody>\n",
       "</table>\n",
       "</div>"
      ],
      "text/plain": [
       "           0\n",
       "0  -2.239210\n",
       "1  -1.838761\n",
       "2  -1.502456\n",
       "3  -0.861794\n",
       "4  -1.145770\n",
       "5  -0.939450\n",
       "6  -0.306311\n",
       "7   0.622816\n",
       "8   2.320188\n",
       "9   3.061277\n",
       "10  2.829472"
      ]
     },
     "execution_count": 16,
     "metadata": {},
     "output_type": "execute_result"
    }
   ],
   "source": [
    "gfi"
   ]
  },
  {
   "cell_type": "code",
   "execution_count": null,
   "id": "3fe9f5f0",
   "metadata": {},
   "outputs": [],
   "source": []
  }
 ],
 "metadata": {
  "kernelspec": {
   "display_name": "Python 3",
   "language": "python",
   "name": "python3"
  },
  "language_info": {
   "codemirror_mode": {
    "name": "ipython",
    "version": 3
   },
   "file_extension": ".py",
   "mimetype": "text/x-python",
   "name": "python",
   "nbconvert_exporter": "python",
   "pygments_lexer": "ipython3",
   "version": "3.8.8"
  }
 },
 "nbformat": 4,
 "nbformat_minor": 5
}
